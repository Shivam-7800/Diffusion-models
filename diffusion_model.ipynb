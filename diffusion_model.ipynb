{
  "nbformat": 4,
  "nbformat_minor": 0,
  "metadata": {
    "colab": {
      "provenance": [],
      "mount_file_id": "19S7DbOFe0Cwl7q2_VpVVh2Hmszf_QEAo",
      "authorship_tag": "ABX9TyOrejOPIgRSTS44SXI7Y6L/",
      "include_colab_link": true
    },
    "kernelspec": {
      "name": "python3",
      "display_name": "Python 3"
    },
    "language_info": {
      "name": "python"
    }
  },
  "cells": [
    {
      "cell_type": "markdown",
      "metadata": {
        "id": "view-in-github",
        "colab_type": "text"
      },
      "source": [
        "<a href=\"https://colab.research.google.com/github/Shivam-7800/Diffusion-models/blob/main/diffusion_model.ipynb\" target=\"_parent\"><img src=\"https://colab.research.google.com/assets/colab-badge.svg\" alt=\"Open In Colab\"/></a>"
      ]
    },
    {
      "cell_type": "code",
      "execution_count": 3,
      "metadata": {
        "colab": {
          "base_uri": "https://localhost:8080/"
        },
        "id": "Uxxb0DmN_cYf",
        "outputId": "e4f6afeb-9be0-4b82-b9b3-f0ae5b5ed9b7"
      },
      "outputs": [
        {
          "output_type": "stream",
          "name": "stdout",
          "text": [
            "Requirement already satisfied: torch in /usr/local/lib/python3.10/dist-packages (2.3.0+cu121)\n",
            "Requirement already satisfied: torchvision in /usr/local/lib/python3.10/dist-packages (0.18.0+cu121)\n",
            "Requirement already satisfied: filelock in /usr/local/lib/python3.10/dist-packages (from torch) (3.14.0)\n",
            "Requirement already satisfied: typing-extensions>=4.8.0 in /usr/local/lib/python3.10/dist-packages (from torch) (4.11.0)\n",
            "Requirement already satisfied: sympy in /usr/local/lib/python3.10/dist-packages (from torch) (1.12)\n",
            "Requirement already satisfied: networkx in /usr/local/lib/python3.10/dist-packages (from torch) (3.3)\n",
            "Requirement already satisfied: jinja2 in /usr/local/lib/python3.10/dist-packages (from torch) (3.1.4)\n",
            "Requirement already satisfied: fsspec in /usr/local/lib/python3.10/dist-packages (from torch) (2023.6.0)\n",
            "Collecting nvidia-cuda-nvrtc-cu12==12.1.105 (from torch)\n",
            "  Using cached nvidia_cuda_nvrtc_cu12-12.1.105-py3-none-manylinux1_x86_64.whl (23.7 MB)\n",
            "Collecting nvidia-cuda-runtime-cu12==12.1.105 (from torch)\n",
            "  Using cached nvidia_cuda_runtime_cu12-12.1.105-py3-none-manylinux1_x86_64.whl (823 kB)\n",
            "Collecting nvidia-cuda-cupti-cu12==12.1.105 (from torch)\n",
            "  Using cached nvidia_cuda_cupti_cu12-12.1.105-py3-none-manylinux1_x86_64.whl (14.1 MB)\n",
            "Collecting nvidia-cudnn-cu12==8.9.2.26 (from torch)\n",
            "  Using cached nvidia_cudnn_cu12-8.9.2.26-py3-none-manylinux1_x86_64.whl (731.7 MB)\n",
            "Collecting nvidia-cublas-cu12==12.1.3.1 (from torch)\n",
            "  Using cached nvidia_cublas_cu12-12.1.3.1-py3-none-manylinux1_x86_64.whl (410.6 MB)\n",
            "Collecting nvidia-cufft-cu12==11.0.2.54 (from torch)\n",
            "  Using cached nvidia_cufft_cu12-11.0.2.54-py3-none-manylinux1_x86_64.whl (121.6 MB)\n",
            "Collecting nvidia-curand-cu12==10.3.2.106 (from torch)\n",
            "  Using cached nvidia_curand_cu12-10.3.2.106-py3-none-manylinux1_x86_64.whl (56.5 MB)\n",
            "Collecting nvidia-cusolver-cu12==11.4.5.107 (from torch)\n",
            "  Using cached nvidia_cusolver_cu12-11.4.5.107-py3-none-manylinux1_x86_64.whl (124.2 MB)\n",
            "Collecting nvidia-cusparse-cu12==12.1.0.106 (from torch)\n",
            "  Using cached nvidia_cusparse_cu12-12.1.0.106-py3-none-manylinux1_x86_64.whl (196.0 MB)\n",
            "Collecting nvidia-nccl-cu12==2.20.5 (from torch)\n",
            "  Using cached nvidia_nccl_cu12-2.20.5-py3-none-manylinux2014_x86_64.whl (176.2 MB)\n",
            "Collecting nvidia-nvtx-cu12==12.1.105 (from torch)\n",
            "  Using cached nvidia_nvtx_cu12-12.1.105-py3-none-manylinux1_x86_64.whl (99 kB)\n",
            "Requirement already satisfied: triton==2.3.0 in /usr/local/lib/python3.10/dist-packages (from torch) (2.3.0)\n",
            "Collecting nvidia-nvjitlink-cu12 (from nvidia-cusolver-cu12==11.4.5.107->torch)\n",
            "  Downloading nvidia_nvjitlink_cu12-12.5.40-py3-none-manylinux2014_x86_64.whl (21.3 MB)\n",
            "\u001b[2K     \u001b[90m━━━━━━━━━━━━━━━━━━━━━━━━━━━━━━━━━━━━━━━━\u001b[0m \u001b[32m21.3/21.3 MB\u001b[0m \u001b[31m38.6 MB/s\u001b[0m eta \u001b[36m0:00:00\u001b[0m\n",
            "\u001b[?25hRequirement already satisfied: numpy in /usr/local/lib/python3.10/dist-packages (from torchvision) (1.25.2)\n",
            "Requirement already satisfied: pillow!=8.3.*,>=5.3.0 in /usr/local/lib/python3.10/dist-packages (from torchvision) (9.4.0)\n",
            "Requirement already satisfied: MarkupSafe>=2.0 in /usr/local/lib/python3.10/dist-packages (from jinja2->torch) (2.1.5)\n",
            "Requirement already satisfied: mpmath>=0.19 in /usr/local/lib/python3.10/dist-packages (from sympy->torch) (1.3.0)\n",
            "Installing collected packages: nvidia-nvtx-cu12, nvidia-nvjitlink-cu12, nvidia-nccl-cu12, nvidia-curand-cu12, nvidia-cufft-cu12, nvidia-cuda-runtime-cu12, nvidia-cuda-nvrtc-cu12, nvidia-cuda-cupti-cu12, nvidia-cublas-cu12, nvidia-cusparse-cu12, nvidia-cudnn-cu12, nvidia-cusolver-cu12\n",
            "Successfully installed nvidia-cublas-cu12-12.1.3.1 nvidia-cuda-cupti-cu12-12.1.105 nvidia-cuda-nvrtc-cu12-12.1.105 nvidia-cuda-runtime-cu12-12.1.105 nvidia-cudnn-cu12-8.9.2.26 nvidia-cufft-cu12-11.0.2.54 nvidia-curand-cu12-10.3.2.106 nvidia-cusolver-cu12-11.4.5.107 nvidia-cusparse-cu12-12.1.0.106 nvidia-nccl-cu12-2.20.5 nvidia-nvjitlink-cu12-12.5.40 nvidia-nvtx-cu12-12.1.105\n"
          ]
        }
      ],
      "source": [
        "pip install torch torchvision\n"
      ]
    },
    {
      "cell_type": "code",
      "source": [
        "from PIL import Image\n",
        "import numpy as np\n",
        "import torch\n",
        "import torchvision.transforms as transforms\n",
        "\n",
        "# Load the image\n",
        "image_path = '/content/drive/MyDrive/F.jpeg'\n",
        "image = Image.open(image_path).convert('RGB')\n",
        "\n",
        "# Define the transformation to convert the image to a tensor\n",
        "transform = transforms.Compose([\n",
        "    transforms.Resize((256, 256)),  # Resize to match model input size\n",
        "    transforms.ToTensor(),          # Convert to tensor\n",
        "])\n",
        "image_tensor = transform(image).unsqueeze(0)  # Add batch dimension\n"
      ],
      "metadata": {
        "id": "seLwhmxzARXQ"
      },
      "execution_count": 4,
      "outputs": []
    },
    {
      "cell_type": "code",
      "source": [
        "class UNet(nn.Module):\n",
        "    def __init__(self):\n",
        "        super(UNet, self).__init__()\n",
        "        # Define the UNet layers\n",
        "        self.encoder = nn.Sequential(\n",
        "            nn.Conv2d(3, 64, kernel_size=4, stride=2, padding=1),\n",
        "            nn.ReLU(),\n",
        "            # Add more layers\n",
        "        )\n",
        "        self.decoder = nn.Sequential(\n",
        "            nn.ConvTranspose2d(64, 3, kernel_size=4, stride=2, padding=1),\n",
        "            nn.ReLU(),\n",
        "            # Add more layers\n",
        "        )\n",
        "\n",
        "    def forward(self, x):\n",
        "        # Define the forward pass\n",
        "        enc = self.encoder(x)\n",
        "        dec = self.decoder(enc)\n",
        "        return dec\n",
        "\n",
        "# Instantiate the model\n",
        "model = UNet()\n"
      ],
      "metadata": {
        "id": "3o9DzYI1An_t"
      },
      "execution_count": 5,
      "outputs": []
    },
    {
      "cell_type": "code",
      "source": [
        "def forward_diffusion(x, t, noise_schedule):\n",
        "    noise = torch.randn_like(x)\n",
        "    noisy_x = (1 - noise_schedule[t]) * x + noise_schedule[t] * noise\n",
        "    return noisy_x\n",
        "\n",
        "# Simulate a simple noise schedule\n",
        "noise_schedule = np.linspace(0, 1, 100)\n",
        "\n",
        "# Apply forward diffusion\n",
        "time_step = 50  # Example time step\n",
        "noisy_image_tensor = forward_diffusion(image_tensor, time_step, noise_schedule)\n"
      ],
      "metadata": {
        "id": "6s-XrwUxArsE"
      },
      "execution_count": 6,
      "outputs": []
    },
    {
      "cell_type": "code",
      "source": [
        "def forward_diffusion(x, t, noise_schedule):\n",
        "    noise = torch.randn_like(x)\n",
        "    noisy_x = (1 - noise_schedule[t]) * x + noise_schedule[t] * noise\n",
        "    return noisy_x\n",
        "\n",
        "# Simulate a simple noise schedule\n",
        "noise_schedule = np.linspace(0, 1, 100)\n",
        "\n",
        "# Apply forward diffusion\n",
        "time_step = 50  # Example time step\n",
        "noisy_image_tensor = forward_diffusion(image_tensor, time_step, noise_schedule)\n"
      ],
      "metadata": {
        "id": "ayz2M28eAthI"
      },
      "execution_count": 7,
      "outputs": []
    },
    {
      "cell_type": "code",
      "source": [
        "def reverse_denoising(noisy_x, t, model, noise_schedule):\n",
        "    with torch.no_grad():\n",
        "        predicted_noise = model(noisy_x)\n",
        "        denoised_x = (noisy_x - noise_schedule[t] * predicted_noise) / (1 - noise_schedule[t])\n",
        "    return denoised_x\n",
        "\n",
        "# Apply reverse denoising using the pre-trained model\n",
        "denoised_image_tensor = reverse_denoising(noisy_image_tensor, time_step, model, noise_schedule)\n"
      ],
      "metadata": {
        "id": "iV7EIUqeAvWW"
      },
      "execution_count": 8,
      "outputs": []
    },
    {
      "cell_type": "code",
      "source": [
        "def tensor_to_image(tensor):\n",
        "    tensor = tensor.squeeze(0)  # Remove batch dimension\n",
        "    tensor = tensor.clamp(0, 1)  # Clamp values to [0, 1]\n",
        "    image = transforms.ToPILImage()(tensor)\n",
        "    return image\n",
        "\n",
        "# Convert the denoised tensor back to an image\n",
        "denoised_image = tensor_to_image(denoised_image_tensor)\n",
        "denoised_image.save('denoised_image.jpg')\n",
        "denoised_image.show()\n"
      ],
      "metadata": {
        "id": "eX8stZQGAxAF"
      },
      "execution_count": 9,
      "outputs": []
    }
  ]
}